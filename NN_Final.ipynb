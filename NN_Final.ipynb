{
  "nbformat": 4,
  "nbformat_minor": 0,
  "metadata": {
    "colab": {
      "name": "NN_Final.ipynb",
      "provenance": [],
      "collapsed_sections": [],
      "authorship_tag": "ABX9TyM2mFRnOPuLteHMbYQo2jbl",
      "include_colab_link": true
    },
    "kernelspec": {
      "name": "python3",
      "display_name": "Python 3"
    },
    "language_info": {
      "name": "python"
    }
  },
  "cells": [
    {
      "cell_type": "markdown",
      "metadata": {
        "id": "view-in-github",
        "colab_type": "text"
      },
      "source": [
        "<a href=\"https://colab.research.google.com/github/melihcelik09/NN-Dataset/blob/master/NN_Final.ipynb\" target=\"_parent\"><img src=\"https://colab.research.google.com/assets/colab-badge.svg\" alt=\"Open In Colab\"/></a>"
      ]
    },
    {
      "cell_type": "markdown",
      "source": [
        "# **Import Libraries**"
      ],
      "metadata": {
        "id": "x6u95OfQvAZp"
      }
    },
    {
      "cell_type": "code",
      "source": [
        "import pandas as pd\n",
        "from sklearn.preprocessing import LabelEncoder\n",
        "from sklearn import preprocessing\n",
        "from sklearn import metrics\n",
        "from sklearn.model_selection import train_test_split\n",
        "from keras.models import Sequential\n",
        "from keras.layers import Dense\n",
        "from tensorflow import keras\n",
        "import matplotlib.pyplot as plt\n",
        "import seaborn as sns"
      ],
      "metadata": {
        "id": "LczwwYf6hcDL"
      },
      "execution_count": null,
      "outputs": []
    },
    {
      "cell_type": "markdown",
      "source": [
        "# **Import Data**"
      ],
      "metadata": {
        "id": "9hsAarKIx90O"
      }
    },
    {
      "cell_type": "code",
      "source": [
        "csv_url=\"https://raw.githubusercontent.com/melihcelik09/NN-Dataset/master/ComputerPricesData.csv\""
      ],
      "metadata": {
        "id": "GiypXd90j1IB"
      },
      "execution_count": null,
      "outputs": []
    },
    {
      "cell_type": "code",
      "source": [
        "data=pd.read_csv(csv_url)"
      ],
      "metadata": {
        "id": "VR0z32X0hxVw"
      },
      "execution_count": null,
      "outputs": []
    },
    {
      "cell_type": "markdown",
      "source": [
        "# **About Dataset**\n",
        "* price: The Price of the computer\n",
        "\n",
        "* speed: The speed\n",
        "\n",
        "* hd: How much hard drive is present\n",
        "\n",
        "* ram: How much ram is present in the computer\n",
        "\n",
        "* screen: The screen size\n",
        "\n",
        "* cd: Whether CD player is present or not\n",
        "\n",
        "* multi: Are there multiple ports or not\n",
        "\n",
        "* premium: If the computer premium quality\n",
        "\n",
        "* ads: The ads value of the computer\n",
        "\n",
        "* trend: The trend value of the computer"
      ],
      "metadata": {
        "id": "ZYlqsYNYyH47"
      }
    },
    {
      "cell_type": "code",
      "source": [
        "data.head()"
      ],
      "metadata": {
        "colab": {
          "base_uri": "https://localhost:8080/",
          "height": 206
        },
        "id": "N-byn1ZciRFE",
        "outputId": "84b86a57-3b42-4b6e-cfc1-9a32664cdff4"
      },
      "execution_count": null,
      "outputs": [
        {
          "output_type": "execute_result",
          "data": {
            "text/plain": [
              "   price  speed   hd  ram  screen  cd multi premium  ads  trend\n",
              "0   1499     25   80    4      14  no    no     yes   94      1\n",
              "1   1795     33   85    2      14  no    no     yes   94      1\n",
              "2   1595     25  170    4      15  no    no     yes   94      1\n",
              "3   1849     25  170    8      14  no    no      no   94      1\n",
              "4   3295     33  340   16      14  no    no     yes   94      1"
            ],
            "text/html": [
              "\n",
              "  <div id=\"df-3a94e8e4-1f55-4b1f-b0bb-bd8cbccddf70\">\n",
              "    <div class=\"colab-df-container\">\n",
              "      <div>\n",
              "<style scoped>\n",
              "    .dataframe tbody tr th:only-of-type {\n",
              "        vertical-align: middle;\n",
              "    }\n",
              "\n",
              "    .dataframe tbody tr th {\n",
              "        vertical-align: top;\n",
              "    }\n",
              "\n",
              "    .dataframe thead th {\n",
              "        text-align: right;\n",
              "    }\n",
              "</style>\n",
              "<table border=\"1\" class=\"dataframe\">\n",
              "  <thead>\n",
              "    <tr style=\"text-align: right;\">\n",
              "      <th></th>\n",
              "      <th>price</th>\n",
              "      <th>speed</th>\n",
              "      <th>hd</th>\n",
              "      <th>ram</th>\n",
              "      <th>screen</th>\n",
              "      <th>cd</th>\n",
              "      <th>multi</th>\n",
              "      <th>premium</th>\n",
              "      <th>ads</th>\n",
              "      <th>trend</th>\n",
              "    </tr>\n",
              "  </thead>\n",
              "  <tbody>\n",
              "    <tr>\n",
              "      <th>0</th>\n",
              "      <td>1499</td>\n",
              "      <td>25</td>\n",
              "      <td>80</td>\n",
              "      <td>4</td>\n",
              "      <td>14</td>\n",
              "      <td>no</td>\n",
              "      <td>no</td>\n",
              "      <td>yes</td>\n",
              "      <td>94</td>\n",
              "      <td>1</td>\n",
              "    </tr>\n",
              "    <tr>\n",
              "      <th>1</th>\n",
              "      <td>1795</td>\n",
              "      <td>33</td>\n",
              "      <td>85</td>\n",
              "      <td>2</td>\n",
              "      <td>14</td>\n",
              "      <td>no</td>\n",
              "      <td>no</td>\n",
              "      <td>yes</td>\n",
              "      <td>94</td>\n",
              "      <td>1</td>\n",
              "    </tr>\n",
              "    <tr>\n",
              "      <th>2</th>\n",
              "      <td>1595</td>\n",
              "      <td>25</td>\n",
              "      <td>170</td>\n",
              "      <td>4</td>\n",
              "      <td>15</td>\n",
              "      <td>no</td>\n",
              "      <td>no</td>\n",
              "      <td>yes</td>\n",
              "      <td>94</td>\n",
              "      <td>1</td>\n",
              "    </tr>\n",
              "    <tr>\n",
              "      <th>3</th>\n",
              "      <td>1849</td>\n",
              "      <td>25</td>\n",
              "      <td>170</td>\n",
              "      <td>8</td>\n",
              "      <td>14</td>\n",
              "      <td>no</td>\n",
              "      <td>no</td>\n",
              "      <td>no</td>\n",
              "      <td>94</td>\n",
              "      <td>1</td>\n",
              "    </tr>\n",
              "    <tr>\n",
              "      <th>4</th>\n",
              "      <td>3295</td>\n",
              "      <td>33</td>\n",
              "      <td>340</td>\n",
              "      <td>16</td>\n",
              "      <td>14</td>\n",
              "      <td>no</td>\n",
              "      <td>no</td>\n",
              "      <td>yes</td>\n",
              "      <td>94</td>\n",
              "      <td>1</td>\n",
              "    </tr>\n",
              "  </tbody>\n",
              "</table>\n",
              "</div>\n",
              "      <button class=\"colab-df-convert\" onclick=\"convertToInteractive('df-3a94e8e4-1f55-4b1f-b0bb-bd8cbccddf70')\"\n",
              "              title=\"Convert this dataframe to an interactive table.\"\n",
              "              style=\"display:none;\">\n",
              "        \n",
              "  <svg xmlns=\"http://www.w3.org/2000/svg\" height=\"24px\"viewBox=\"0 0 24 24\"\n",
              "       width=\"24px\">\n",
              "    <path d=\"M0 0h24v24H0V0z\" fill=\"none\"/>\n",
              "    <path d=\"M18.56 5.44l.94 2.06.94-2.06 2.06-.94-2.06-.94-.94-2.06-.94 2.06-2.06.94zm-11 1L8.5 8.5l.94-2.06 2.06-.94-2.06-.94L8.5 2.5l-.94 2.06-2.06.94zm10 10l.94 2.06.94-2.06 2.06-.94-2.06-.94-.94-2.06-.94 2.06-2.06.94z\"/><path d=\"M17.41 7.96l-1.37-1.37c-.4-.4-.92-.59-1.43-.59-.52 0-1.04.2-1.43.59L10.3 9.45l-7.72 7.72c-.78.78-.78 2.05 0 2.83L4 21.41c.39.39.9.59 1.41.59.51 0 1.02-.2 1.41-.59l7.78-7.78 2.81-2.81c.8-.78.8-2.07 0-2.86zM5.41 20L4 18.59l7.72-7.72 1.47 1.35L5.41 20z\"/>\n",
              "  </svg>\n",
              "      </button>\n",
              "      \n",
              "  <style>\n",
              "    .colab-df-container {\n",
              "      display:flex;\n",
              "      flex-wrap:wrap;\n",
              "      gap: 12px;\n",
              "    }\n",
              "\n",
              "    .colab-df-convert {\n",
              "      background-color: #E8F0FE;\n",
              "      border: none;\n",
              "      border-radius: 50%;\n",
              "      cursor: pointer;\n",
              "      display: none;\n",
              "      fill: #1967D2;\n",
              "      height: 32px;\n",
              "      padding: 0 0 0 0;\n",
              "      width: 32px;\n",
              "    }\n",
              "\n",
              "    .colab-df-convert:hover {\n",
              "      background-color: #E2EBFA;\n",
              "      box-shadow: 0px 1px 2px rgba(60, 64, 67, 0.3), 0px 1px 3px 1px rgba(60, 64, 67, 0.15);\n",
              "      fill: #174EA6;\n",
              "    }\n",
              "\n",
              "    [theme=dark] .colab-df-convert {\n",
              "      background-color: #3B4455;\n",
              "      fill: #D2E3FC;\n",
              "    }\n",
              "\n",
              "    [theme=dark] .colab-df-convert:hover {\n",
              "      background-color: #434B5C;\n",
              "      box-shadow: 0px 1px 3px 1px rgba(0, 0, 0, 0.15);\n",
              "      filter: drop-shadow(0px 1px 2px rgba(0, 0, 0, 0.3));\n",
              "      fill: #FFFFFF;\n",
              "    }\n",
              "  </style>\n",
              "\n",
              "      <script>\n",
              "        const buttonEl =\n",
              "          document.querySelector('#df-3a94e8e4-1f55-4b1f-b0bb-bd8cbccddf70 button.colab-df-convert');\n",
              "        buttonEl.style.display =\n",
              "          google.colab.kernel.accessAllowed ? 'block' : 'none';\n",
              "\n",
              "        async function convertToInteractive(key) {\n",
              "          const element = document.querySelector('#df-3a94e8e4-1f55-4b1f-b0bb-bd8cbccddf70');\n",
              "          const dataTable =\n",
              "            await google.colab.kernel.invokeFunction('convertToInteractive',\n",
              "                                                     [key], {});\n",
              "          if (!dataTable) return;\n",
              "\n",
              "          const docLinkHtml = 'Like what you see? Visit the ' +\n",
              "            '<a target=\"_blank\" href=https://colab.research.google.com/notebooks/data_table.ipynb>data table notebook</a>'\n",
              "            + ' to learn more about interactive tables.';\n",
              "          element.innerHTML = '';\n",
              "          dataTable['output_type'] = 'display_data';\n",
              "          await google.colab.output.renderOutput(dataTable, element);\n",
              "          const docLink = document.createElement('div');\n",
              "          docLink.innerHTML = docLinkHtml;\n",
              "          element.appendChild(docLink);\n",
              "        }\n",
              "      </script>\n",
              "    </div>\n",
              "  </div>\n",
              "  "
            ]
          },
          "metadata": {},
          "execution_count": 4
        }
      ]
    },
    {
      "cell_type": "code",
      "source": [
        "data.shape"
      ],
      "metadata": {
        "colab": {
          "base_uri": "https://localhost:8080/"
        },
        "id": "W_NY9ewBiXRP",
        "outputId": "174b1db1-03b5-4c4d-ac31-e68132f4ab43"
      },
      "execution_count": null,
      "outputs": [
        {
          "output_type": "execute_result",
          "data": {
            "text/plain": [
              "(6259, 10)"
            ]
          },
          "metadata": {},
          "execution_count": 5
        }
      ]
    },
    {
      "cell_type": "markdown",
      "source": [
        "# **Data Check**"
      ],
      "metadata": {
        "id": "YuWHojlYx0lQ"
      }
    },
    {
      "cell_type": "code",
      "source": [
        "data.isna().sum() if (data.isna().sum()).any()>0 else print(\"Data is Clean\")"
      ],
      "metadata": {
        "colab": {
          "base_uri": "https://localhost:8080/"
        },
        "id": "3l7k9tgJsOAO",
        "outputId": "f3d26dee-0d09-48cd-c30d-1f762fae56da"
      },
      "execution_count": null,
      "outputs": [
        {
          "output_type": "stream",
          "name": "stdout",
          "text": [
            "Data is Clean\n"
          ]
        }
      ]
    },
    {
      "cell_type": "code",
      "source": [
        "data.describe()"
      ],
      "metadata": {
        "colab": {
          "base_uri": "https://localhost:8080/",
          "height": 300
        },
        "id": "YVWTsoadldGx",
        "outputId": "8eeca273-4876-4674-da53-ddc4c7c5634e"
      },
      "execution_count": null,
      "outputs": [
        {
          "output_type": "execute_result",
          "data": {
            "text/plain": [
              "             price        speed           hd          ram       screen  \\\n",
              "count  6259.000000  6259.000000  6259.000000  6259.000000  6259.000000   \n",
              "mean   2219.576610    52.011024   416.601694     8.286947    14.608723   \n",
              "std     580.803956    21.157735   258.548445     5.631099     0.905115   \n",
              "min     949.000000    25.000000    80.000000     2.000000    14.000000   \n",
              "25%    1794.000000    33.000000   214.000000     4.000000    14.000000   \n",
              "50%    2144.000000    50.000000   340.000000     8.000000    14.000000   \n",
              "75%    2595.000000    66.000000   528.000000     8.000000    15.000000   \n",
              "max    5399.000000   100.000000  2100.000000    32.000000    17.000000   \n",
              "\n",
              "               ads        trend  \n",
              "count  6259.000000  6259.000000  \n",
              "mean    221.301007    15.926985  \n",
              "std      74.835284     7.873984  \n",
              "min      39.000000     1.000000  \n",
              "25%     162.500000    10.000000  \n",
              "50%     246.000000    16.000000  \n",
              "75%     275.000000    21.500000  \n",
              "max     339.000000    35.000000  "
            ],
            "text/html": [
              "\n",
              "  <div id=\"df-5b139bb5-45a8-4a4c-82d9-94c1095accf8\">\n",
              "    <div class=\"colab-df-container\">\n",
              "      <div>\n",
              "<style scoped>\n",
              "    .dataframe tbody tr th:only-of-type {\n",
              "        vertical-align: middle;\n",
              "    }\n",
              "\n",
              "    .dataframe tbody tr th {\n",
              "        vertical-align: top;\n",
              "    }\n",
              "\n",
              "    .dataframe thead th {\n",
              "        text-align: right;\n",
              "    }\n",
              "</style>\n",
              "<table border=\"1\" class=\"dataframe\">\n",
              "  <thead>\n",
              "    <tr style=\"text-align: right;\">\n",
              "      <th></th>\n",
              "      <th>price</th>\n",
              "      <th>speed</th>\n",
              "      <th>hd</th>\n",
              "      <th>ram</th>\n",
              "      <th>screen</th>\n",
              "      <th>ads</th>\n",
              "      <th>trend</th>\n",
              "    </tr>\n",
              "  </thead>\n",
              "  <tbody>\n",
              "    <tr>\n",
              "      <th>count</th>\n",
              "      <td>6259.000000</td>\n",
              "      <td>6259.000000</td>\n",
              "      <td>6259.000000</td>\n",
              "      <td>6259.000000</td>\n",
              "      <td>6259.000000</td>\n",
              "      <td>6259.000000</td>\n",
              "      <td>6259.000000</td>\n",
              "    </tr>\n",
              "    <tr>\n",
              "      <th>mean</th>\n",
              "      <td>2219.576610</td>\n",
              "      <td>52.011024</td>\n",
              "      <td>416.601694</td>\n",
              "      <td>8.286947</td>\n",
              "      <td>14.608723</td>\n",
              "      <td>221.301007</td>\n",
              "      <td>15.926985</td>\n",
              "    </tr>\n",
              "    <tr>\n",
              "      <th>std</th>\n",
              "      <td>580.803956</td>\n",
              "      <td>21.157735</td>\n",
              "      <td>258.548445</td>\n",
              "      <td>5.631099</td>\n",
              "      <td>0.905115</td>\n",
              "      <td>74.835284</td>\n",
              "      <td>7.873984</td>\n",
              "    </tr>\n",
              "    <tr>\n",
              "      <th>min</th>\n",
              "      <td>949.000000</td>\n",
              "      <td>25.000000</td>\n",
              "      <td>80.000000</td>\n",
              "      <td>2.000000</td>\n",
              "      <td>14.000000</td>\n",
              "      <td>39.000000</td>\n",
              "      <td>1.000000</td>\n",
              "    </tr>\n",
              "    <tr>\n",
              "      <th>25%</th>\n",
              "      <td>1794.000000</td>\n",
              "      <td>33.000000</td>\n",
              "      <td>214.000000</td>\n",
              "      <td>4.000000</td>\n",
              "      <td>14.000000</td>\n",
              "      <td>162.500000</td>\n",
              "      <td>10.000000</td>\n",
              "    </tr>\n",
              "    <tr>\n",
              "      <th>50%</th>\n",
              "      <td>2144.000000</td>\n",
              "      <td>50.000000</td>\n",
              "      <td>340.000000</td>\n",
              "      <td>8.000000</td>\n",
              "      <td>14.000000</td>\n",
              "      <td>246.000000</td>\n",
              "      <td>16.000000</td>\n",
              "    </tr>\n",
              "    <tr>\n",
              "      <th>75%</th>\n",
              "      <td>2595.000000</td>\n",
              "      <td>66.000000</td>\n",
              "      <td>528.000000</td>\n",
              "      <td>8.000000</td>\n",
              "      <td>15.000000</td>\n",
              "      <td>275.000000</td>\n",
              "      <td>21.500000</td>\n",
              "    </tr>\n",
              "    <tr>\n",
              "      <th>max</th>\n",
              "      <td>5399.000000</td>\n",
              "      <td>100.000000</td>\n",
              "      <td>2100.000000</td>\n",
              "      <td>32.000000</td>\n",
              "      <td>17.000000</td>\n",
              "      <td>339.000000</td>\n",
              "      <td>35.000000</td>\n",
              "    </tr>\n",
              "  </tbody>\n",
              "</table>\n",
              "</div>\n",
              "      <button class=\"colab-df-convert\" onclick=\"convertToInteractive('df-5b139bb5-45a8-4a4c-82d9-94c1095accf8')\"\n",
              "              title=\"Convert this dataframe to an interactive table.\"\n",
              "              style=\"display:none;\">\n",
              "        \n",
              "  <svg xmlns=\"http://www.w3.org/2000/svg\" height=\"24px\"viewBox=\"0 0 24 24\"\n",
              "       width=\"24px\">\n",
              "    <path d=\"M0 0h24v24H0V0z\" fill=\"none\"/>\n",
              "    <path d=\"M18.56 5.44l.94 2.06.94-2.06 2.06-.94-2.06-.94-.94-2.06-.94 2.06-2.06.94zm-11 1L8.5 8.5l.94-2.06 2.06-.94-2.06-.94L8.5 2.5l-.94 2.06-2.06.94zm10 10l.94 2.06.94-2.06 2.06-.94-2.06-.94-.94-2.06-.94 2.06-2.06.94z\"/><path d=\"M17.41 7.96l-1.37-1.37c-.4-.4-.92-.59-1.43-.59-.52 0-1.04.2-1.43.59L10.3 9.45l-7.72 7.72c-.78.78-.78 2.05 0 2.83L4 21.41c.39.39.9.59 1.41.59.51 0 1.02-.2 1.41-.59l7.78-7.78 2.81-2.81c.8-.78.8-2.07 0-2.86zM5.41 20L4 18.59l7.72-7.72 1.47 1.35L5.41 20z\"/>\n",
              "  </svg>\n",
              "      </button>\n",
              "      \n",
              "  <style>\n",
              "    .colab-df-container {\n",
              "      display:flex;\n",
              "      flex-wrap:wrap;\n",
              "      gap: 12px;\n",
              "    }\n",
              "\n",
              "    .colab-df-convert {\n",
              "      background-color: #E8F0FE;\n",
              "      border: none;\n",
              "      border-radius: 50%;\n",
              "      cursor: pointer;\n",
              "      display: none;\n",
              "      fill: #1967D2;\n",
              "      height: 32px;\n",
              "      padding: 0 0 0 0;\n",
              "      width: 32px;\n",
              "    }\n",
              "\n",
              "    .colab-df-convert:hover {\n",
              "      background-color: #E2EBFA;\n",
              "      box-shadow: 0px 1px 2px rgba(60, 64, 67, 0.3), 0px 1px 3px 1px rgba(60, 64, 67, 0.15);\n",
              "      fill: #174EA6;\n",
              "    }\n",
              "\n",
              "    [theme=dark] .colab-df-convert {\n",
              "      background-color: #3B4455;\n",
              "      fill: #D2E3FC;\n",
              "    }\n",
              "\n",
              "    [theme=dark] .colab-df-convert:hover {\n",
              "      background-color: #434B5C;\n",
              "      box-shadow: 0px 1px 3px 1px rgba(0, 0, 0, 0.15);\n",
              "      filter: drop-shadow(0px 1px 2px rgba(0, 0, 0, 0.3));\n",
              "      fill: #FFFFFF;\n",
              "    }\n",
              "  </style>\n",
              "\n",
              "      <script>\n",
              "        const buttonEl =\n",
              "          document.querySelector('#df-5b139bb5-45a8-4a4c-82d9-94c1095accf8 button.colab-df-convert');\n",
              "        buttonEl.style.display =\n",
              "          google.colab.kernel.accessAllowed ? 'block' : 'none';\n",
              "\n",
              "        async function convertToInteractive(key) {\n",
              "          const element = document.querySelector('#df-5b139bb5-45a8-4a4c-82d9-94c1095accf8');\n",
              "          const dataTable =\n",
              "            await google.colab.kernel.invokeFunction('convertToInteractive',\n",
              "                                                     [key], {});\n",
              "          if (!dataTable) return;\n",
              "\n",
              "          const docLinkHtml = 'Like what you see? Visit the ' +\n",
              "            '<a target=\"_blank\" href=https://colab.research.google.com/notebooks/data_table.ipynb>data table notebook</a>'\n",
              "            + ' to learn more about interactive tables.';\n",
              "          element.innerHTML = '';\n",
              "          dataTable['output_type'] = 'display_data';\n",
              "          await google.colab.output.renderOutput(dataTable, element);\n",
              "          const docLink = document.createElement('div');\n",
              "          docLink.innerHTML = docLinkHtml;\n",
              "          element.appendChild(docLink);\n",
              "        }\n",
              "      </script>\n",
              "    </div>\n",
              "  </div>\n",
              "  "
            ]
          },
          "metadata": {},
          "execution_count": 7
        }
      ]
    },
    {
      "cell_type": "code",
      "source": [
        "e_data=data.copy()"
      ],
      "metadata": {
        "id": "ur99pQAx8Z9s"
      },
      "execution_count": null,
      "outputs": []
    },
    {
      "cell_type": "markdown",
      "source": [
        "# **Data Normalization with Label Encoder**"
      ],
      "metadata": {
        "id": "c0_6iuCAxpoL"
      }
    },
    {
      "cell_type": "code",
      "source": [
        "lb=LabelEncoder()\n",
        "need_transform=['cd',\"multi\",\"premium\"]\n",
        "for col in need_transform:\n",
        "  e_data[col]=lb.fit_transform(e_data[col])\n",
        "e_data"
      ],
      "metadata": {
        "colab": {
          "base_uri": "https://localhost:8080/",
          "height": 424
        },
        "id": "uWNik5JK8Kms",
        "outputId": "ddb72aa2-f7e3-4186-dc0b-721ada390520"
      },
      "execution_count": null,
      "outputs": [
        {
          "output_type": "execute_result",
          "data": {
            "text/plain": [
              "      price  speed    hd  ram  screen  cd  multi  premium  ads  trend\n",
              "0      1499     25    80    4      14   0      0        1   94      1\n",
              "1      1795     33    85    2      14   0      0        1   94      1\n",
              "2      1595     25   170    4      15   0      0        1   94      1\n",
              "3      1849     25   170    8      14   0      0        0   94      1\n",
              "4      3295     33   340   16      14   0      0        1   94      1\n",
              "...     ...    ...   ...  ...     ...  ..    ...      ...  ...    ...\n",
              "6254   1690    100   528    8      15   0      0        1   39     35\n",
              "6255   2223     66   850   16      15   1      1        1   39     35\n",
              "6256   2654    100  1200   24      15   1      0        1   39     35\n",
              "6257   2195    100   850   16      15   1      0        1   39     35\n",
              "6258   2490    100   850   16      17   1      0        1   39     35\n",
              "\n",
              "[6259 rows x 10 columns]"
            ],
            "text/html": [
              "\n",
              "  <div id=\"df-fc4a9121-88df-4c76-88d1-0edaeda50c9f\">\n",
              "    <div class=\"colab-df-container\">\n",
              "      <div>\n",
              "<style scoped>\n",
              "    .dataframe tbody tr th:only-of-type {\n",
              "        vertical-align: middle;\n",
              "    }\n",
              "\n",
              "    .dataframe tbody tr th {\n",
              "        vertical-align: top;\n",
              "    }\n",
              "\n",
              "    .dataframe thead th {\n",
              "        text-align: right;\n",
              "    }\n",
              "</style>\n",
              "<table border=\"1\" class=\"dataframe\">\n",
              "  <thead>\n",
              "    <tr style=\"text-align: right;\">\n",
              "      <th></th>\n",
              "      <th>price</th>\n",
              "      <th>speed</th>\n",
              "      <th>hd</th>\n",
              "      <th>ram</th>\n",
              "      <th>screen</th>\n",
              "      <th>cd</th>\n",
              "      <th>multi</th>\n",
              "      <th>premium</th>\n",
              "      <th>ads</th>\n",
              "      <th>trend</th>\n",
              "    </tr>\n",
              "  </thead>\n",
              "  <tbody>\n",
              "    <tr>\n",
              "      <th>0</th>\n",
              "      <td>1499</td>\n",
              "      <td>25</td>\n",
              "      <td>80</td>\n",
              "      <td>4</td>\n",
              "      <td>14</td>\n",
              "      <td>0</td>\n",
              "      <td>0</td>\n",
              "      <td>1</td>\n",
              "      <td>94</td>\n",
              "      <td>1</td>\n",
              "    </tr>\n",
              "    <tr>\n",
              "      <th>1</th>\n",
              "      <td>1795</td>\n",
              "      <td>33</td>\n",
              "      <td>85</td>\n",
              "      <td>2</td>\n",
              "      <td>14</td>\n",
              "      <td>0</td>\n",
              "      <td>0</td>\n",
              "      <td>1</td>\n",
              "      <td>94</td>\n",
              "      <td>1</td>\n",
              "    </tr>\n",
              "    <tr>\n",
              "      <th>2</th>\n",
              "      <td>1595</td>\n",
              "      <td>25</td>\n",
              "      <td>170</td>\n",
              "      <td>4</td>\n",
              "      <td>15</td>\n",
              "      <td>0</td>\n",
              "      <td>0</td>\n",
              "      <td>1</td>\n",
              "      <td>94</td>\n",
              "      <td>1</td>\n",
              "    </tr>\n",
              "    <tr>\n",
              "      <th>3</th>\n",
              "      <td>1849</td>\n",
              "      <td>25</td>\n",
              "      <td>170</td>\n",
              "      <td>8</td>\n",
              "      <td>14</td>\n",
              "      <td>0</td>\n",
              "      <td>0</td>\n",
              "      <td>0</td>\n",
              "      <td>94</td>\n",
              "      <td>1</td>\n",
              "    </tr>\n",
              "    <tr>\n",
              "      <th>4</th>\n",
              "      <td>3295</td>\n",
              "      <td>33</td>\n",
              "      <td>340</td>\n",
              "      <td>16</td>\n",
              "      <td>14</td>\n",
              "      <td>0</td>\n",
              "      <td>0</td>\n",
              "      <td>1</td>\n",
              "      <td>94</td>\n",
              "      <td>1</td>\n",
              "    </tr>\n",
              "    <tr>\n",
              "      <th>...</th>\n",
              "      <td>...</td>\n",
              "      <td>...</td>\n",
              "      <td>...</td>\n",
              "      <td>...</td>\n",
              "      <td>...</td>\n",
              "      <td>...</td>\n",
              "      <td>...</td>\n",
              "      <td>...</td>\n",
              "      <td>...</td>\n",
              "      <td>...</td>\n",
              "    </tr>\n",
              "    <tr>\n",
              "      <th>6254</th>\n",
              "      <td>1690</td>\n",
              "      <td>100</td>\n",
              "      <td>528</td>\n",
              "      <td>8</td>\n",
              "      <td>15</td>\n",
              "      <td>0</td>\n",
              "      <td>0</td>\n",
              "      <td>1</td>\n",
              "      <td>39</td>\n",
              "      <td>35</td>\n",
              "    </tr>\n",
              "    <tr>\n",
              "      <th>6255</th>\n",
              "      <td>2223</td>\n",
              "      <td>66</td>\n",
              "      <td>850</td>\n",
              "      <td>16</td>\n",
              "      <td>15</td>\n",
              "      <td>1</td>\n",
              "      <td>1</td>\n",
              "      <td>1</td>\n",
              "      <td>39</td>\n",
              "      <td>35</td>\n",
              "    </tr>\n",
              "    <tr>\n",
              "      <th>6256</th>\n",
              "      <td>2654</td>\n",
              "      <td>100</td>\n",
              "      <td>1200</td>\n",
              "      <td>24</td>\n",
              "      <td>15</td>\n",
              "      <td>1</td>\n",
              "      <td>0</td>\n",
              "      <td>1</td>\n",
              "      <td>39</td>\n",
              "      <td>35</td>\n",
              "    </tr>\n",
              "    <tr>\n",
              "      <th>6257</th>\n",
              "      <td>2195</td>\n",
              "      <td>100</td>\n",
              "      <td>850</td>\n",
              "      <td>16</td>\n",
              "      <td>15</td>\n",
              "      <td>1</td>\n",
              "      <td>0</td>\n",
              "      <td>1</td>\n",
              "      <td>39</td>\n",
              "      <td>35</td>\n",
              "    </tr>\n",
              "    <tr>\n",
              "      <th>6258</th>\n",
              "      <td>2490</td>\n",
              "      <td>100</td>\n",
              "      <td>850</td>\n",
              "      <td>16</td>\n",
              "      <td>17</td>\n",
              "      <td>1</td>\n",
              "      <td>0</td>\n",
              "      <td>1</td>\n",
              "      <td>39</td>\n",
              "      <td>35</td>\n",
              "    </tr>\n",
              "  </tbody>\n",
              "</table>\n",
              "<p>6259 rows × 10 columns</p>\n",
              "</div>\n",
              "      <button class=\"colab-df-convert\" onclick=\"convertToInteractive('df-fc4a9121-88df-4c76-88d1-0edaeda50c9f')\"\n",
              "              title=\"Convert this dataframe to an interactive table.\"\n",
              "              style=\"display:none;\">\n",
              "        \n",
              "  <svg xmlns=\"http://www.w3.org/2000/svg\" height=\"24px\"viewBox=\"0 0 24 24\"\n",
              "       width=\"24px\">\n",
              "    <path d=\"M0 0h24v24H0V0z\" fill=\"none\"/>\n",
              "    <path d=\"M18.56 5.44l.94 2.06.94-2.06 2.06-.94-2.06-.94-.94-2.06-.94 2.06-2.06.94zm-11 1L8.5 8.5l.94-2.06 2.06-.94-2.06-.94L8.5 2.5l-.94 2.06-2.06.94zm10 10l.94 2.06.94-2.06 2.06-.94-2.06-.94-.94-2.06-.94 2.06-2.06.94z\"/><path d=\"M17.41 7.96l-1.37-1.37c-.4-.4-.92-.59-1.43-.59-.52 0-1.04.2-1.43.59L10.3 9.45l-7.72 7.72c-.78.78-.78 2.05 0 2.83L4 21.41c.39.39.9.59 1.41.59.51 0 1.02-.2 1.41-.59l7.78-7.78 2.81-2.81c.8-.78.8-2.07 0-2.86zM5.41 20L4 18.59l7.72-7.72 1.47 1.35L5.41 20z\"/>\n",
              "  </svg>\n",
              "      </button>\n",
              "      \n",
              "  <style>\n",
              "    .colab-df-container {\n",
              "      display:flex;\n",
              "      flex-wrap:wrap;\n",
              "      gap: 12px;\n",
              "    }\n",
              "\n",
              "    .colab-df-convert {\n",
              "      background-color: #E8F0FE;\n",
              "      border: none;\n",
              "      border-radius: 50%;\n",
              "      cursor: pointer;\n",
              "      display: none;\n",
              "      fill: #1967D2;\n",
              "      height: 32px;\n",
              "      padding: 0 0 0 0;\n",
              "      width: 32px;\n",
              "    }\n",
              "\n",
              "    .colab-df-convert:hover {\n",
              "      background-color: #E2EBFA;\n",
              "      box-shadow: 0px 1px 2px rgba(60, 64, 67, 0.3), 0px 1px 3px 1px rgba(60, 64, 67, 0.15);\n",
              "      fill: #174EA6;\n",
              "    }\n",
              "\n",
              "    [theme=dark] .colab-df-convert {\n",
              "      background-color: #3B4455;\n",
              "      fill: #D2E3FC;\n",
              "    }\n",
              "\n",
              "    [theme=dark] .colab-df-convert:hover {\n",
              "      background-color: #434B5C;\n",
              "      box-shadow: 0px 1px 3px 1px rgba(0, 0, 0, 0.15);\n",
              "      filter: drop-shadow(0px 1px 2px rgba(0, 0, 0, 0.3));\n",
              "      fill: #FFFFFF;\n",
              "    }\n",
              "  </style>\n",
              "\n",
              "      <script>\n",
              "        const buttonEl =\n",
              "          document.querySelector('#df-fc4a9121-88df-4c76-88d1-0edaeda50c9f button.colab-df-convert');\n",
              "        buttonEl.style.display =\n",
              "          google.colab.kernel.accessAllowed ? 'block' : 'none';\n",
              "\n",
              "        async function convertToInteractive(key) {\n",
              "          const element = document.querySelector('#df-fc4a9121-88df-4c76-88d1-0edaeda50c9f');\n",
              "          const dataTable =\n",
              "            await google.colab.kernel.invokeFunction('convertToInteractive',\n",
              "                                                     [key], {});\n",
              "          if (!dataTable) return;\n",
              "\n",
              "          const docLinkHtml = 'Like what you see? Visit the ' +\n",
              "            '<a target=\"_blank\" href=https://colab.research.google.com/notebooks/data_table.ipynb>data table notebook</a>'\n",
              "            + ' to learn more about interactive tables.';\n",
              "          element.innerHTML = '';\n",
              "          dataTable['output_type'] = 'display_data';\n",
              "          await google.colab.output.renderOutput(dataTable, element);\n",
              "          const docLink = document.createElement('div');\n",
              "          docLink.innerHTML = docLinkHtml;\n",
              "          element.appendChild(docLink);\n",
              "        }\n",
              "      </script>\n",
              "    </div>\n",
              "  </div>\n",
              "  "
            ]
          },
          "metadata": {},
          "execution_count": 9
        }
      ]
    },
    {
      "cell_type": "code",
      "source": [
        "dataset=e_data.values"
      ],
      "metadata": {
        "id": "wsbdV8ro7kCf"
      },
      "execution_count": null,
      "outputs": []
    },
    {
      "cell_type": "code",
      "source": [
        "dataset"
      ],
      "metadata": {
        "colab": {
          "base_uri": "https://localhost:8080/"
        },
        "id": "9BRbbRoG7pXQ",
        "outputId": "e415a176-5221-41f7-8c00-f290a3d707a9"
      },
      "execution_count": null,
      "outputs": [
        {
          "output_type": "execute_result",
          "data": {
            "text/plain": [
              "array([[1499,   25,   80, ...,    1,   94,    1],\n",
              "       [1795,   33,   85, ...,    1,   94,    1],\n",
              "       [1595,   25,  170, ...,    1,   94,    1],\n",
              "       ...,\n",
              "       [2654,  100, 1200, ...,    1,   39,   35],\n",
              "       [2195,  100,  850, ...,    1,   39,   35],\n",
              "       [2490,  100,  850, ...,    1,   39,   35]])"
            ]
          },
          "metadata": {},
          "execution_count": 11
        }
      ]
    },
    {
      "cell_type": "markdown",
      "source": [
        "# **Specifying input and output data**"
      ],
      "metadata": {
        "id": "hyodfbaImW4R"
      }
    },
    {
      "cell_type": "code",
      "source": [
        "X=dataset[:,1:10]\n",
        "Y=dataset[:,0]"
      ],
      "metadata": {
        "id": "w2CcKuCI-9IH"
      },
      "execution_count": null,
      "outputs": []
    },
    {
      "cell_type": "code",
      "source": [
        "X"
      ],
      "metadata": {
        "colab": {
          "base_uri": "https://localhost:8080/"
        },
        "id": "v4iJNr_GKJhH",
        "outputId": "a51fd13b-99fc-40be-fdcd-d085a94eab55"
      },
      "execution_count": null,
      "outputs": [
        {
          "output_type": "execute_result",
          "data": {
            "text/plain": [
              "array([[  25,   80,    4, ...,    1,   94,    1],\n",
              "       [  33,   85,    2, ...,    1,   94,    1],\n",
              "       [  25,  170,    4, ...,    1,   94,    1],\n",
              "       ...,\n",
              "       [ 100, 1200,   24, ...,    1,   39,   35],\n",
              "       [ 100,  850,   16, ...,    1,   39,   35],\n",
              "       [ 100,  850,   16, ...,    1,   39,   35]])"
            ]
          },
          "metadata": {},
          "execution_count": 13
        }
      ]
    },
    {
      "cell_type": "code",
      "source": [
        "Y"
      ],
      "metadata": {
        "colab": {
          "base_uri": "https://localhost:8080/"
        },
        "id": "9VHZQ4oNKJuG",
        "outputId": "090b2a51-30d7-4985-afb8-f9acad9b6a70"
      },
      "execution_count": null,
      "outputs": [
        {
          "output_type": "execute_result",
          "data": {
            "text/plain": [
              "array([1499, 1795, 1595, ..., 2654, 2195, 2490])"
            ]
          },
          "metadata": {},
          "execution_count": 14
        }
      ]
    },
    {
      "cell_type": "markdown",
      "source": [
        "# **Data Normalization with MinMaxScaler**"
      ],
      "metadata": {
        "id": "nHotk7hwykSE"
      }
    },
    {
      "cell_type": "code",
      "source": [
        "min_max_scaler=preprocessing.MinMaxScaler()\n",
        "X_scale=min_max_scaler.fit_transform(X)"
      ],
      "metadata": {
        "id": "7SmOk1jvYzdi"
      },
      "execution_count": null,
      "outputs": []
    },
    {
      "cell_type": "code",
      "source": [
        "X_scale"
      ],
      "metadata": {
        "colab": {
          "base_uri": "https://localhost:8080/"
        },
        "id": "4cUl53z3ZFBP",
        "outputId": "32d459c5-0966-4214-8fb2-9436ec9594d9"
      },
      "execution_count": null,
      "outputs": [
        {
          "output_type": "execute_result",
          "data": {
            "text/plain": [
              "array([[0.        , 0.        , 0.06666667, ..., 1.        , 0.18333333,\n",
              "        0.        ],\n",
              "       [0.10666667, 0.00247525, 0.        , ..., 1.        , 0.18333333,\n",
              "        0.        ],\n",
              "       [0.        , 0.04455446, 0.06666667, ..., 1.        , 0.18333333,\n",
              "        0.        ],\n",
              "       ...,\n",
              "       [1.        , 0.55445545, 0.73333333, ..., 1.        , 0.        ,\n",
              "        1.        ],\n",
              "       [1.        , 0.38118812, 0.46666667, ..., 1.        , 0.        ,\n",
              "        1.        ],\n",
              "       [1.        , 0.38118812, 0.46666667, ..., 1.        , 0.        ,\n",
              "        1.        ]])"
            ]
          },
          "metadata": {},
          "execution_count": 16
        }
      ]
    },
    {
      "cell_type": "markdown",
      "source": [
        "# **Data Split (Train,Test,Validat)**"
      ],
      "metadata": {
        "id": "-2ojHpieFZvF"
      }
    },
    {
      "cell_type": "code",
      "source": [
        "X_train,X_val_test,Y_train,Y_val_test=train_test_split(X_scale,Y,test_size=0.3,random_state=42)"
      ],
      "metadata": {
        "id": "th7-mnVZZNR0"
      },
      "execution_count": null,
      "outputs": []
    },
    {
      "cell_type": "code",
      "source": [
        "X_val,X_test,Y_val,Y_test=train_test_split(X_val_test,Y_val_test,test_size=0.5)"
      ],
      "metadata": {
        "id": "hUkcTNEKZyFX"
      },
      "execution_count": null,
      "outputs": []
    },
    {
      "cell_type": "code",
      "source": [
        "print(X_train.shape, X_val.shape, X_test.shape, Y_train.shape, Y_val.shape, Y_test.shape)"
      ],
      "metadata": {
        "colab": {
          "base_uri": "https://localhost:8080/"
        },
        "id": "rmXfoOxLZ_0a",
        "outputId": "3d728822-0089-4ba8-f078-3a6677a4e61e"
      },
      "execution_count": null,
      "outputs": [
        {
          "output_type": "stream",
          "name": "stdout",
          "text": [
            "(4381, 9) (939, 9) (939, 9) (4381,) (939,) (939,)\n"
          ]
        }
      ]
    },
    {
      "cell_type": "markdown",
      "source": [
        "# **Building Neural Network Model**"
      ],
      "metadata": {
        "id": "rkemXp7yBkxw"
      }
    },
    {
      "cell_type": "code",
      "source": [
        "model=Sequential([\n",
        "                  #Input Layer\n",
        "                  Dense(32,activation=\"relu\",input_shape=(9,)),\n",
        "                  #Hidden Layer\n",
        "                  Dense(32,activation=\"relu\"),\n",
        "                  #Output Layer\n",
        "                  Dense(1),\n",
        "                  ])\n",
        "opt=keras.optimizers.Adam(learning_rate=0.01)\n",
        "model.compile(optimizer=opt,loss=\"mse\",metrics=[\"mae\",\"mse\"])"
      ],
      "metadata": {
        "id": "5T0xupY1-z_r"
      },
      "execution_count": null,
      "outputs": []
    },
    {
      "cell_type": "markdown",
      "source": [
        "# **Training Neural Network Model**"
      ],
      "metadata": {
        "id": "Tt6jNPVoBpwx"
      }
    },
    {
      "cell_type": "code",
      "source": [
        "hist = model.fit(\n",
        "    X_train, \n",
        "    Y_train,\n",
        "    epochs=20,\n",
        "    validation_data=(X_val, Y_val))\n",
        "model.summary()"
      ],
      "metadata": {
        "colab": {
          "base_uri": "https://localhost:8080/"
        },
        "id": "V_7KtoSP8mE0",
        "outputId": "e0e85436-8748-4639-e095-6aaca63b29f0"
      },
      "execution_count": null,
      "outputs": [
        {
          "output_type": "stream",
          "name": "stdout",
          "text": [
            "Epoch 1/20\n",
            "137/137 [==============================] - 2s 7ms/step - loss: 2287814.5000 - mae: 1223.2845 - mse: 2287814.5000 - val_loss: 341568.6875 - val_mae: 451.4913 - val_mse: 341568.6875\n",
            "Epoch 2/20\n",
            "137/137 [==============================] - 1s 4ms/step - loss: 307857.7500 - mae: 435.0638 - mse: 307857.7500 - val_loss: 231671.0000 - val_mae: 367.9602 - val_mse: 231671.0000\n",
            "Epoch 3/20\n",
            "137/137 [==============================] - 1s 7ms/step - loss: 225990.1719 - mae: 364.1483 - mse: 225990.1719 - val_loss: 172208.3906 - val_mae: 304.5268 - val_mse: 172208.3906\n",
            "Epoch 4/20\n",
            "137/137 [==============================] - 1s 6ms/step - loss: 168322.7812 - mae: 305.5373 - mse: 168322.7812 - val_loss: 127444.4766 - val_mae: 258.1058 - val_mse: 127444.4766\n",
            "Epoch 5/20\n",
            "137/137 [==============================] - 1s 5ms/step - loss: 127610.6094 - mae: 262.9125 - mse: 127610.6094 - val_loss: 100409.5703 - val_mae: 228.7764 - val_mse: 100409.5703\n",
            "Epoch 6/20\n",
            "137/137 [==============================] - 1s 7ms/step - loss: 101312.1016 - mae: 233.3716 - mse: 101312.1016 - val_loss: 83804.6875 - val_mae: 209.8509 - val_mse: 83804.6875\n",
            "Epoch 7/20\n",
            "137/137 [==============================] - 1s 4ms/step - loss: 85632.6953 - mae: 215.6038 - mse: 85632.6953 - val_loss: 77248.4766 - val_mae: 207.3522 - val_mse: 77248.4766\n",
            "Epoch 8/20\n",
            "137/137 [==============================] - 1s 5ms/step - loss: 77658.0234 - mae: 206.0169 - mse: 77658.0234 - val_loss: 71271.3203 - val_mae: 198.3870 - val_mse: 71271.3203\n",
            "Epoch 9/20\n",
            "137/137 [==============================] - 1s 4ms/step - loss: 73469.1016 - mae: 200.9912 - mse: 73469.1016 - val_loss: 69307.8750 - val_mae: 195.7473 - val_mse: 69307.8750\n",
            "Epoch 10/20\n",
            "137/137 [==============================] - 1s 5ms/step - loss: 71164.6562 - mae: 198.1837 - mse: 71164.6562 - val_loss: 73468.8203 - val_mae: 206.4029 - val_mse: 73468.8203\n",
            "Epoch 11/20\n",
            "137/137 [==============================] - 1s 5ms/step - loss: 71098.0469 - mae: 198.9064 - mse: 71098.0469 - val_loss: 68736.7031 - val_mae: 195.6016 - val_mse: 68736.7031\n",
            "Epoch 12/20\n",
            "137/137 [==============================] - 1s 5ms/step - loss: 70326.1797 - mae: 197.7646 - mse: 70326.1797 - val_loss: 69285.1172 - val_mae: 199.4329 - val_mse: 69285.1172\n",
            "Epoch 13/20\n",
            "137/137 [==============================] - 1s 6ms/step - loss: 70153.2031 - mae: 198.7758 - mse: 70153.2031 - val_loss: 66682.7422 - val_mae: 190.3228 - val_mse: 66682.7422\n",
            "Epoch 14/20\n",
            "137/137 [==============================] - 1s 8ms/step - loss: 69011.5078 - mae: 196.0872 - mse: 69011.5078 - val_loss: 68249.1484 - val_mae: 198.3497 - val_mse: 68249.1484\n",
            "Epoch 15/20\n",
            "137/137 [==============================] - 1s 7ms/step - loss: 68805.5156 - mae: 195.8172 - mse: 68805.5156 - val_loss: 65375.4297 - val_mae: 191.8468 - val_mse: 65375.4297\n",
            "Epoch 16/20\n",
            "137/137 [==============================] - 1s 7ms/step - loss: 68435.7031 - mae: 196.1978 - mse: 68435.7031 - val_loss: 64340.9219 - val_mae: 188.9855 - val_mse: 64340.9219\n",
            "Epoch 17/20\n",
            "137/137 [==============================] - 1s 9ms/step - loss: 68445.4922 - mae: 195.0127 - mse: 68445.4922 - val_loss: 65367.6172 - val_mae: 191.4395 - val_mse: 65367.6172\n",
            "Epoch 18/20\n",
            "137/137 [==============================] - 1s 7ms/step - loss: 68799.3672 - mae: 195.4826 - mse: 68799.3672 - val_loss: 67711.0703 - val_mae: 193.4009 - val_mse: 67711.0703\n",
            "Epoch 19/20\n",
            "137/137 [==============================] - 1s 6ms/step - loss: 67759.7734 - mae: 194.9920 - mse: 67759.7734 - val_loss: 65412.3242 - val_mae: 193.0974 - val_mse: 65412.3242\n",
            "Epoch 20/20\n",
            "137/137 [==============================] - 1s 4ms/step - loss: 68576.8906 - mae: 195.9956 - mse: 68576.8906 - val_loss: 63196.6172 - val_mae: 185.5100 - val_mse: 63196.6172\n",
            "Model: \"sequential\"\n",
            "_________________________________________________________________\n",
            " Layer (type)                Output Shape              Param #   \n",
            "=================================================================\n",
            " dense (Dense)               (None, 32)                320       \n",
            "                                                                 \n",
            " dense_1 (Dense)             (None, 32)                1056      \n",
            "                                                                 \n",
            " dense_2 (Dense)             (None, 1)                 33        \n",
            "                                                                 \n",
            "=================================================================\n",
            "Total params: 1,409\n",
            "Trainable params: 1,409\n",
            "Non-trainable params: 0\n",
            "_________________________________________________________________\n"
          ]
        }
      ]
    },
    {
      "cell_type": "code",
      "source": [
        "#Evaluating data\n",
        "model.evaluate(X_test,Y_test)"
      ],
      "metadata": {
        "colab": {
          "base_uri": "https://localhost:8080/"
        },
        "id": "r2aH3TWtO-8F",
        "outputId": "10c39263-2525-44c7-9f19-cb7dd069b6ae"
      },
      "execution_count": null,
      "outputs": [
        {
          "output_type": "stream",
          "name": "stdout",
          "text": [
            "30/30 [==============================] - 0s 3ms/step - loss: 68793.0156 - mae: 193.0408 - mse: 68793.0156\n"
          ]
        },
        {
          "output_type": "execute_result",
          "data": {
            "text/plain": [
              "[68793.015625, 193.04075622558594, 68793.015625]"
            ]
          },
          "metadata": {},
          "execution_count": 22
        }
      ]
    },
    {
      "cell_type": "code",
      "source": [
        "#We selected first 5 test datas for predict.\n",
        "X_new=X_test[:5]\n",
        "X_new"
      ],
      "metadata": {
        "colab": {
          "base_uri": "https://localhost:8080/"
        },
        "id": "M6GEdvvOPjI7",
        "outputId": "7d26a269-2484-441a-ab11-3847d3bbe4bc"
      },
      "execution_count": null,
      "outputs": [
        {
          "output_type": "execute_result",
          "data": {
            "text/plain": [
              "array([[0.54666667, 0.08168317, 0.06666667, 0.        , 1.        ,\n",
              "        0.        , 0.        , 0.59      , 0.35294118],\n",
              "       [0.10666667, 0.22178218, 0.2       , 0.        , 1.        ,\n",
              "        0.        , 1.        , 0.69666667, 0.55882353],\n",
              "       [0.        , 0.04455446, 0.06666667, 0.        , 0.        ,\n",
              "        0.        , 1.        , 0.23      , 0.08823529],\n",
              "       [0.33333333, 0.04455446, 0.06666667, 0.        , 0.        ,\n",
              "        0.        , 1.        , 0.23      , 0.08823529],\n",
              "       [0.        , 0.01980198, 0.06666667, 0.        , 1.        ,\n",
              "        0.        , 0.        , 0.78666667, 0.32352941]])"
            ]
          },
          "metadata": {},
          "execution_count": 23
        }
      ]
    },
    {
      "cell_type": "markdown",
      "source": [
        "# **Predict Prices using NN model**"
      ],
      "metadata": {
        "id": "2FamQQGPEEmR"
      }
    },
    {
      "cell_type": "code",
      "source": [
        "y_pred=model.predict(X_new)\n",
        "print(f\"Predicted values :\\n{y_pred}\")\n",
        "real_values=Y_test[:5]\n",
        "print(f\"\\nReal values :\\n{real_values}\")"
      ],
      "metadata": {
        "colab": {
          "base_uri": "https://localhost:8080/"
        },
        "id": "r9KWOB3xPy7E",
        "outputId": "eeedf7a2-dda2-4989-d0d3-49963b20cf3a"
      },
      "execution_count": null,
      "outputs": [
        {
          "output_type": "stream",
          "name": "stdout",
          "text": [
            "Predicted values :\n",
            "[[2563.855 ]\n",
            " [1878.9784]\n",
            " [1848.3774]\n",
            " [2079.8284]\n",
            " [2024.4852]]\n",
            "\n",
            "Real values :\n",
            "[2924 2094 1399 2025 1804]\n"
          ]
        }
      ]
    },
    {
      "cell_type": "code",
      "source": [
        "print(f\"Mean Absolute Error: {metrics.mean_absolute_error(real_values,y_pred)}\")\n",
        "print(f\"Mean Squared Error: {metrics.mean_squared_error(real_values,y_pred)}\")\n",
        "print(f\"Variance Score is: {metrics.explained_variance_score(real_values,y_pred)}\")"
      ],
      "metadata": {
        "colab": {
          "base_uri": "https://localhost:8080/"
        },
        "id": "70y5ixuWd_G-",
        "outputId": "90de6880-6998-4d81-f375-29cfead18a87"
      },
      "execution_count": null,
      "outputs": [
        {
          "output_type": "stream",
          "name": "stdout",
          "text": [
            "Mean Absolute Error: 259.971533203125\n",
            "Mean Squared Error: 85899.73953263163\n",
            "Variance Score is: 0.6601823580020805\n"
          ]
        }
      ]
    },
    {
      "cell_type": "markdown",
      "source": [
        "# **Visualizing Predicted and Real Prices**"
      ],
      "metadata": {
        "id": "rSJkYQajDPgP"
      }
    },
    {
      "cell_type": "code",
      "source": [
        "plt.plot(y_pred)\n",
        "plt.plot(real_values)\n",
        "plt.title('Predict')\n",
        "plt.legend(['Pred', 'Real'], loc='upper right')\n",
        "plt.show()"
      ],
      "metadata": {
        "colab": {
          "base_uri": "https://localhost:8080/",
          "height": 281
        },
        "id": "F4t6N-obm1u_",
        "outputId": "d486e650-b59e-4dfa-8be5-548f96e28725"
      },
      "execution_count": null,
      "outputs": [
        {
          "output_type": "display_data",
          "data": {
            "text/plain": [
              "<Figure size 432x288 with 1 Axes>"
            ],
            "image/png": "[encoded data removed]"
          },
          "metadata": {
            "needs_background": "light"
          }
        }
      ]
    },
    {
      "cell_type": "code",
      "source": [
        "full_pred=model.predict(X_test)"
      ],
      "metadata": {
        "id": "OOyiG7d6QIKk"
      },
      "execution_count": null,
      "outputs": []
    },
    {
      "cell_type": "code",
      "source": [
        "fig=plt.figure(figsize=(10,5))\n",
        "plt.scatter(Y_test,full_pred)\n",
        "plt.plot(Y_test,Y_test,\"r\")"
      ],
      "metadata": {
        "colab": {
          "base_uri": "https://localhost:8080/",
          "height": 337
        },
        "id": "7ZNHZAkdjrlY",
        "outputId": "8c1d8d7b-ee32-420d-8e39-5f73937ab9f4"
      },
      "execution_count": null,
      "outputs": [
        {
          "output_type": "execute_result",
          "data": {
            "text/plain": [
              "[<matplotlib.lines.Line2D at 0x7f4e1bf3f790>]"
            ]
          },
          "metadata": {},
          "execution_count": 28
        },
        {
          "output_type": "display_data",
          "data": {
            "text/plain": [
              "<Figure size 720x360 with 1 Axes>"
            ],
            "image/png": "[encoded data removed]"
          },
          "metadata": {
            "needs_background": "light"
          }
        }
      ]
    },
    {
      "cell_type": "markdown",
      "source": [
        "# **Visualizing Residuals**"
      ],
      "metadata": {
        "id": "x1flM0dWDiAu"
      }
    },
    {
      "cell_type": "code",
      "source": [
        "fig=plt.figure(figsize=(10,5))\n",
        "residuals=(Y_test-full_pred)\n",
        "ax=sns.distplot(residuals)\n",
        "ax.set_xlabel(\"Residuals\")\n",
        "ax.set_ylabel(\"\")"
      ],
      "metadata": {
        "id": "2rHXkwFvnLMJ",
        "colab": {
          "base_uri": "https://localhost:8080/",
          "height": 406
        },
        "outputId": "cdc343fb-86f8-44ae-fc12-35518a2a6ce1"
      },
      "execution_count": null,
      "outputs": [
        {
          "output_type": "stream",
          "name": "stderr",
          "text": [
            "/usr/local/lib/python3.7/dist-packages/seaborn/distributions.py:2619: FutureWarning: `distplot` is a deprecated function and will be removed in a future version. Please adapt your code to use either `displot` (a figure-level function with similar flexibility) or `histplot` (an axes-level function for histograms).\n",
            "  warnings.warn(msg, FutureWarning)\n"
          ]
        },
        {
          "output_type": "execute_result",
          "data": {
            "text/plain": [
              "Text(0, 0.5, '')"
            ]
          },
          "metadata": {},
          "execution_count": 32
        },
        {
          "output_type": "display_data",
          "data": {
            "text/plain": [
              "<Figure size 720x360 with 1 Axes>"
            ],
            "image/png": "[encoded data removed]"
          },
          "metadata": {
            "needs_background": "light"
          }
        }
      ]
    },
    {
      "cell_type": "markdown",
      "source": [
        "# **Visualizing Loss,Mean Absolute Error and Mean Squared Error**"
      ],
      "metadata": {
        "id": "YGCIqCMBC-k1"
      }
    },
    {
      "cell_type": "code",
      "source": [
        "plt.plot(hist.history['loss'])\n",
        "plt.plot(hist.history['val_loss'])\n",
        "plt.title('Model loss')\n",
        "plt.ylabel('Loss')\n",
        "plt.xlabel('Epoch')\n",
        "plt.legend(['Train', 'Val'], loc='upper right')\n",
        "plt.show()"
      ],
      "metadata": {
        "colab": {
          "base_uri": "https://localhost:8080/",
          "height": 295
        },
        "id": "52djF3FIgia6",
        "outputId": "b3a57c70-df9d-49ce-b023-a325790a516f"
      },
      "execution_count": null,
      "outputs": [
        {
          "output_type": "display_data",
          "data": {
            "text/plain": [
              "<Figure size 432x288 with 1 Axes>"
            ],
            "image/png": "[encoded data removed]"
          },
          "metadata": {
            "needs_background": "light"
          }
        }
      ]
    },
    {
      "cell_type": "code",
      "source": [
        "plt.plot(hist.history['mae'])\n",
        "plt.plot(hist.history['val_mae'])\n",
        "plt.title('Mean Absolute Error')\n",
        "plt.ylabel('Mean Absolute Error')\n",
        "plt.xlabel('Epoch')\n",
        "plt.legend(['Train', 'Val'], loc='upper right')\n",
        "plt.show()"
      ],
      "metadata": {
        "colab": {
          "base_uri": "https://localhost:8080/",
          "height": 295
        },
        "id": "zfuJZHpvhUI-",
        "outputId": "b1cf16f1-42f8-440a-e29e-85cf90f271b0"
      },
      "execution_count": null,
      "outputs": [
        {
          "output_type": "display_data",
          "data": {
            "text/plain": [
              "<Figure size 432x288 with 1 Axes>"
            ],
            "image/png": "[encoded data removed]"
          },
          "metadata": {
            "needs_background": "light"
          }
        }
      ]
    },
    {
      "cell_type": "code",
      "source": [
        "plt.plot(hist.history['mse'])\n",
        "plt.plot(hist.history['val_mse'])\n",
        "plt.title('Mean Squared Error')\n",
        "plt.ylabel('Mean Squared Error')\n",
        "plt.xlabel('Epoch')\n",
        "plt.legend(['Train', 'Val'], loc='upper right')\n",
        "plt.show()"
      ],
      "metadata": {
        "colab": {
          "base_uri": "https://localhost:8080/",
          "height": 295
        },
        "id": "Fs2xiL-5hvQG",
        "outputId": "3def563d-4a3a-4895-8bc6-17273861e01b"
      },
      "execution_count": null,
      "outputs": [
        {
          "output_type": "display_data",
          "data": {
            "text/plain": [
              "<Figure size 432x288 with 1 Axes>"
            ],
            "image/png": "[encoded data removed]"
          },
          "metadata": {
            "needs_background": "light"
          }
        }
      ]
    }
  ]
}